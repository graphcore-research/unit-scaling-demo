{
 "cells": [
  {
   "attachments": {},
   "cell_type": "markdown",
   "id": "3f296041",
   "metadata": {},
   "source": [
    "Copyright (c) 2023 Graphcore Ltd. All rights reserved."
   ]
  },
  {
   "attachments": {},
   "cell_type": "markdown",
   "id": "974bfdfb",
   "metadata": {},
   "source": [
    "# Convert WikiText-103 (raw) dataset\n",
    "\n",
    "This script runs two operations on the [WikiText-103 (raw)](https://www.salesforce.com/products/einstein/ai-research/the-wikitext-dependency-language-modeling-dataset/) dataset:\n",
    "\n",
    " - Normalise names `wiki.train.raw => train.txt`\n",
    " - Construct the set of all unicode characters present in {train, valid, test} to form the vocabulary `vocab.json`"
   ]
  },
  {
   "cell_type": "code",
   "execution_count": 1,
   "id": "40e06d9d-e9d2-4b85-bd81-4c3b54ec1fb3",
   "metadata": {},
   "outputs": [],
   "source": [
    "from pathlib import Path\n",
    "import json"
   ]
  },
  {
   "cell_type": "code",
   "execution_count": 3,
   "id": "bf928e13-ce77-477e-9a55-48b20b79df24",
   "metadata": {},
   "outputs": [],
   "source": [
    "root = Path(\"data/wikitext103_raw\")\n",
    "root.mkdir(exist_ok=False, parents=True)"
   ]
  },
  {
   "cell_type": "code",
   "execution_count": 5,
   "id": "17208b8c-aab1-43ce-92ac-1d4a76bc63a4",
   "metadata": {},
   "outputs": [
    {
     "name": "stdout",
     "output_type": "stream",
     "text": [
      "2023-05-09 10:54:29 URL:https://s3.amazonaws.com/research.metamind.io/wikitext/wikitext-103-raw-v1.zip [191984949/191984949] -> \"data/wikitext103_raw/raw.zip\" [1]\n",
      "Archive:  data/wikitext103_raw/raw.zip\n",
      "  inflating: data/wikitext103_raw/wiki.test.raw  \n",
      "  inflating: data/wikitext103_raw/wiki.valid.raw  \n",
      "  inflating: data/wikitext103_raw/wiki.train.raw  \n",
      "data/wikitext103_raw\n",
      "├── [183M]  raw.zip\n",
      "├── [1.2M]  test.txt\n",
      "├── [516M]  train.txt\n",
      "└── [1.1M]  valid.txt\n",
      "\n",
      "0 directories, 4 files\n"
     ]
    }
   ],
   "source": [
    "!wget -nv https://s3.amazonaws.com/research.metamind.io/wikitext/wikitext-103-raw-v1.zip -O {root / \"raw.zip\"}\n",
    "!unzip -oj {root / \"raw.zip\"} -d {root}\n",
    "!mv {root}/wiki.train.raw {root}/train.txt\n",
    "!mv {root}/wiki.valid.raw {root}/valid.txt\n",
    "!mv {root}/wiki.test.raw {root}/test.txt\n",
    "!tree -lh {root}"
   ]
  },
  {
   "cell_type": "code",
   "execution_count": 6,
   "id": "30bb1d70-df2e-470b-9220-83a104303471",
   "metadata": {},
   "outputs": [
    {
     "data": {
      "text/plain": [
       "49723"
      ]
     },
     "execution_count": 6,
     "metadata": {},
     "output_type": "execute_result"
    }
   ],
   "source": [
    "def get_vocab():\n",
    "    vocab = set([])\n",
    "    for part in [\"train\", \"valid\", \"test\"]:\n",
    "        vocab.update(set((root / f\"{part}.txt\").read_text(encoding=\"utf8\")))\n",
    "    return sorted(vocab)\n",
    "\n",
    "vocab = get_vocab()\n",
    "Path(root / \"vocab.json\").write_text(json.dumps(vocab))"
   ]
  }
 ],
 "metadata": {
  "kernelspec": {
   "display_name": "Python 3",
   "language": "python",
   "name": "python3"
  },
  "language_info": {
   "codemirror_mode": {
    "name": "ipython",
    "version": 3
   },
   "file_extension": ".py",
   "mimetype": "text/x-python",
   "name": "python",
   "nbconvert_exporter": "python",
   "pygments_lexer": "ipython3",
   "version": "3.6.9"
  }
 },
 "nbformat": 4,
 "nbformat_minor": 5
}
