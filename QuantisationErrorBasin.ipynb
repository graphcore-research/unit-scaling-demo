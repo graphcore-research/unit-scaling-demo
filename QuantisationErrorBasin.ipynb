{
 "cells": [
  {
   "cell_type": "code",
   "execution_count": 1,
   "id": "aa8d864b-fa51-4f03-98cd-cb96318b7429",
   "metadata": {},
   "outputs": [],
   "source": [
    "%config Completer.use_jedi=False\n",
    "import itertools as it\n",
    "from typing import *\n",
    "\n",
    "import matplotlib\n",
    "import matplotlib.pyplot as plt\n",
    "import numpy as np\n",
    "import pandas as pd\n",
    "import seaborn as sns\n",
    "import wandb\n",
    "\n",
    "sns.set_context(\"paper\", font_scale=1.5)\n",
    "matplotlib.rc('font', **{'family': 'serif', 'serif': [\"Computer modern\"]})\n",
    "matplotlib.rc('text', usetex=True)"
   ]
  },
  {
   "cell_type": "code",
   "execution_count": 2,
   "id": "d3cfb925-70bc-4268-89a3-2e1de6845d39",
   "metadata": {},
   "outputs": [],
   "source": [
    "def snr(original: np.ndarray, quantised: np.ndarray) -> np.ndarray:\n",
    "    signal = np.mean(original ** 2, axis=1)\n",
    "    noise = np.mean((quantised - original) ** 2, axis=1)\n",
    "    return signal / noise\n",
    "\n",
    "def round_fpX(a: np.ndarray, exp_min: int, exp_max: int, mantissa_bits: int):\n",
    "    mantissa_max = 2**mantissa_bits\n",
    "    absa = np.abs(a)\n",
    "    loga = np.floor(np.log2(absa))  # note: exponent truncation at an exponent boundary\n",
    "    basep = 2 ** np.clip(loga, exp_min, exp_max)\n",
    "    is_normal = (basep <= absa).astype(a.dtype)\n",
    "    mantissa = np.clip(np.round(mantissa_max * (absa / basep - is_normal)), 0, mantissa_max - 1)\n",
    "    return np.sign(a) * basep * (is_normal + mantissa / mantissa_max)\n",
    "\n",
    "FP16 = dict(\n",
    "    exp_min=-14,\n",
    "    exp_max=15,\n",
    "    mantissa_bits=10,\n",
    ")\n",
    "FP8_143_GAQ = dict(\n",
    "    exp_min=-7,\n",
    "    exp_max=7,\n",
    "    mantissa_bits=3,\n",
    ")"
   ]
  },
  {
   "cell_type": "code",
   "execution_count": 3,
   "id": "4b4737fb-8d76-43c0-8bcb-d297a8c75ffb",
   "metadata": {},
   "outputs": [],
   "source": [
    "# Sanity check\n",
    "\n",
    "def round_np16(a: np.ndarray):\n",
    "    return np.clip(a, -65504, 65504).astype(np.float16).astype(np.float64)\n",
    "\n",
    "test_array = np.random.default_rng(32478323).normal(size=1000) * 2.0 ** np.arange(-28, 28 + 1, step=1)[:, np.newaxis]\n",
    "\n",
    "# Need a nonzero tolerance here, presumably because our exponent calc doesn't quite round-to-nearest\n",
    "np.testing.assert_allclose(np.abs(round_np16(test_array) - round_fpX(test_array, **FP16)) / test_array, 0, atol=1e-3)"
   ]
  },
  {
   "cell_type": "code",
   "execution_count": 6,
   "id": "f9d88f45-98fb-4a14-abac-1c4d735a0d06",
   "metadata": {},
   "outputs": [
    {
     "data": {
      "image/png": "[encoded data removed]",
      "text/plain": [
       "<Figure size 432x252 with 1 Axes>"
      ]
     },
     "metadata": {
      "needs_background": "light"
     },
     "output_type": "display_data"
    }
   ],
   "source": [
    "step, samples = 1/128, int(1e3)\n",
    "# step, samples = 1, 1000\n",
    "\n",
    "rng = np.random.default_rng(984135)\n",
    "\n",
    "sigma = 2.0**np.arange(-28, 28 + 1, step=step)\n",
    "original = rng.normal(size=samples) * sigma[:, np.newaxis]\n",
    "\n",
    "plt.figure(figsize=(6, 3.5))\n",
    "ax = plt.gca()\n",
    "sns.lineplot(x=sigma, y=snr(original, round_fpX(original, exp_min=-14, exp_max=15, mantissa_bits=10)),\n",
    "             label=\"FP16\")\n",
    "sns.lineplot(x=sigma, y=snr(original, round_fpX(original, exp_min=-7, exp_max=7, mantissa_bits=3)),\n",
    "             label=\"FP8 GAQ 1.4.3\")\n",
    "ax.set_xscale(\"log\", base=2)\n",
    "ax.set_yscale(\"log\", base=10)\n",
    "ax.set_ylim((5e-1, 1e8))\n",
    "plt.vlines(1, 0, 1e8, \"k\", linestyles=\"dashed\")\n",
    "ax.set_xticks(2.0**np.arange(-30, 31, step=10))\n",
    "ax.set_yticks(10**np.arange(0, 9, step=2))\n",
    "ax.set_xlabel(\"Scale $\\sigma$\")\n",
    "ax.set_ylabel(\"SNR\")\n",
    "plt.legend(loc=\"center right\")\n",
    "plt.tight_layout()\n",
    "plt.savefig(\"out/numerics_basin.pdf\");"
   ]
  }
 ],
 "metadata": {
  "kernelspec": {
   "display_name": "Python 3",
   "language": "python",
   "name": "python3"
  },
  "language_info": {
   "codemirror_mode": {
    "name": "ipython",
    "version": 3
   },
   "file_extension": ".py",
   "mimetype": "text/x-python",
   "name": "python",
   "nbconvert_exporter": "python",
   "pygments_lexer": "ipython3",
   "version": "3.6.9"
  }
 },
 "nbformat": 4,
 "nbformat_minor": 5
}
