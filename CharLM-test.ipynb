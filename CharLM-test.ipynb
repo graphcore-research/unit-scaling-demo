{
 "cells": [
  {
   "cell_type": "code",
   "execution_count": 15,
   "id": "2cf698a0-a20e-423d-a7d3-a1d64054fd6e",
   "metadata": {},
   "outputs": [],
   "source": [
    "import wandb\n",
    "import pandas as pd\n",
    "import numpy as np\n",
    "from typing import *\n",
    "from pathlib import Path\n",
    "import matplotlib\n",
    "import matplotlib.pyplot as plt\n",
    "import seaborn as sns\n",
    "import sys\n",
    "sns.set_context(\"talk\")\n",
    "\n",
    "def loss_to_bpc(loss: float) -> float:\n",
    "    return float(loss) / np.log(2)\n",
    "\n",
    "def load_runs(*experiments: str) -> wandb.apis.public.Runs:\n",
    "    api = wandb.Api(dict(base_url=\"https://wandb.sourcevertex.net\"))\n",
    "    runs = api.runs(path=\"douglaso/scaled-matmuls\", filters={\n",
    "        \"config.metadata.experiment\": {\"$in\": experiments},\n",
    "    })\n",
    "    print(f\"Loaded {len(runs)} runs\", file=sys.stderr)\n",
    "    return runs"
   ]
  },
  {
   "cell_type": "code",
   "execution_count": 19,
   "id": "2e805e80-fb69-48a9-8ed4-2080b556fe98",
   "metadata": {},
   "outputs": [
    {
     "name": "stderr",
     "output_type": "stream",
     "text": [
      "Loaded 510 runs\n"
     ]
    }
   ],
   "source": [
    "runs = load_runs(\n",
    "    \"20230115_large_p0\",\n",
    "    \"20230115_large_p1\",\n",
    "    \"20230115_large_p2\",\n",
    ")\n",
    "def run_stats(run):\n",
    "    if run.state != \"finished\" or \"broken\" in run.tags:\n",
    "        return\n",
    "\n",
    "    model = run.config[\"model\"]\n",
    "    optimiser = run.config[\"training\"][\"optimiser\"]\n",
    "    return dict(\n",
    "        id=run.id,\n",
    "        experiment=run.config[\"metadata\"][\"experiment\"],\n",
    "        ## model\n",
    "        variant=\"unit\" if run.config[\"unit_scale\"] else \"regular\",\n",
    "        dtype=model[\"dtype\"],\n",
    "        depth=model[\"depth\"],\n",
    "        norm=model[\"residual\"][\"norm\"] or \"none\",\n",
    "        model=model[\"sequence\"][\"kind\"],\n",
    "        ## optimiser\n",
    "        optimiser=optimiser[\"kind\"],\n",
    "        lr=np.log(optimiser[\"learning_rate\"])/np.log(2),\n",
    "        loss_scale=run.config[\"training\"][\"loss_scale\"],\n",
    "        ## stats\n",
    "        weights=run.summary[\"n_weights_no_embedding\"],\n",
    "        test_bpc=loss_to_bpc(run.summary[\"test_loss\"]),\n",
    "        valid_bpc=loss_to_bpc(run.summary[\"valid_loss\"]),\n",
    "        train_bpc=loss_to_bpc(run.summary[\"train_loss\"]),\n",
    "    )\n",
    "\n",
    "df = pd.DataFrame.from_dict(filter(None, map(run_stats, runs)))"
   ]
  },
  {
   "cell_type": "code",
   "execution_count": 20,
   "id": "75640e7b-e635-461a-b01c-626bdccb768f",
   "metadata": {},
   "outputs": [],
   "source": [
    "dfm = (df\n",
    "   .pipe(lambda d: d[(d.model == \"rnn\") | (d.depth == 8)])\n",
    "   .groupby([\"model\", \"norm\", \"dtype\", \"loss_scale\", \"variant\", \"lr\"])\n",
    "   .apply(lambda d: pd.Series(dict(\n",
    "       count=len(d),\n",
    "       valid_bpc=d.valid_bpc.median(),\n",
    "       test_bpc=d.test_bpc.median(),\n",
    "       test_bpc_std=d.test_bpc.std(),\n",
    "   )))\n",
    "   .reset_index()\n",
    ")"
   ]
  },
  {
   "cell_type": "code",
   "execution_count": 21,
   "id": "0cbe74ac-8296-4cfe-957e-deccdb6b71e8",
   "metadata": {},
   "outputs": [
    {
     "name": "stdout",
     "output_type": "stream",
     "text": [
      "95% CI: 0.010\n"
     ]
    },
    {
     "data": {
      "text/html": [
       "<style  type=\"text/css\" >\n",
       "#T_bc7716d0_981c_11ed_add7_8045ddb67bebrow0_col1,#T_bc7716d0_981c_11ed_add7_8045ddb67bebrow0_col3,#T_bc7716d0_981c_11ed_add7_8045ddb67bebrow0_col4,#T_bc7716d0_981c_11ed_add7_8045ddb67bebrow1_col1,#T_bc7716d0_981c_11ed_add7_8045ddb67bebrow1_col4,#T_bc7716d0_981c_11ed_add7_8045ddb67bebrow2_col1,#T_bc7716d0_981c_11ed_add7_8045ddb67bebrow2_col2,#T_bc7716d0_981c_11ed_add7_8045ddb67bebrow2_col3,#T_bc7716d0_981c_11ed_add7_8045ddb67bebrow2_col4,#T_bc7716d0_981c_11ed_add7_8045ddb67bebrow3_col1,#T_bc7716d0_981c_11ed_add7_8045ddb67bebrow3_col2,#T_bc7716d0_981c_11ed_add7_8045ddb67bebrow3_col3,#T_bc7716d0_981c_11ed_add7_8045ddb67bebrow3_col4{\n",
       "            font-weight:  bold;\n",
       "        }</style><table id=\"T_bc7716d0_981c_11ed_add7_8045ddb67beb\" ><thead>    <tr>        <th class=\"blank\" ></th>        <th class=\"index_name level0\" >dtype</th>        <th class=\"col_heading level0 col0\" colspan=3>float16</th>        <th class=\"col_heading level0 col3\" colspan=2>float32</th>    </tr>    <tr>        <th class=\"blank\" ></th>        <th class=\"index_name level1\" >variant</th>        <th class=\"col_heading level1 col0\" >regular</th>        <th class=\"col_heading level1 col1\" >unit</th>        <th class=\"col_heading level1 col2\" >regular</th>        <th class=\"col_heading level1 col3\" >regular</th>        <th class=\"col_heading level1 col4\" >unit</th>    </tr>    <tr>        <th class=\"blank\" ></th>        <th class=\"index_name level2\" >loss_scale</th>        <th class=\"col_heading level2 col0\" >1</th>        <th class=\"col_heading level2 col1\" >1</th>        <th class=\"col_heading level2 col2\" >2048</th>        <th class=\"col_heading level2 col3\" >1</th>        <th class=\"col_heading level2 col4\" >1</th>    </tr>    <tr>        <th class=\"index_name level0\" >model</th>        <th class=\"index_name level1\" >norm</th>        <th class=\"blank\" ></th>        <th class=\"blank\" ></th>        <th class=\"blank\" ></th>        <th class=\"blank\" ></th>        <th class=\"blank\" ></th>    </tr></thead><tbody>\n",
       "                <tr>\n",
       "                        <th id=\"T_bc7716d0_981c_11ed_add7_8045ddb67beblevel0_row0\" class=\"row_heading level0 row0\" rowspan=2>attention</th>\n",
       "                        <th id=\"T_bc7716d0_981c_11ed_add7_8045ddb67beblevel1_row0\" class=\"row_heading level1 row0\" >post</th>\n",
       "                        <td id=\"T_bc7716d0_981c_11ed_add7_8045ddb67bebrow0_col0\" class=\"data row0 col0\" >1.660</td>\n",
       "                        <td id=\"T_bc7716d0_981c_11ed_add7_8045ddb67bebrow0_col1\" class=\"data row0 col1\" >1.540</td>\n",
       "                        <td id=\"T_bc7716d0_981c_11ed_add7_8045ddb67bebrow0_col2\" class=\"data row0 col2\" >1.555</td>\n",
       "                        <td id=\"T_bc7716d0_981c_11ed_add7_8045ddb67bebrow0_col3\" class=\"data row0 col3\" >1.548</td>\n",
       "                        <td id=\"T_bc7716d0_981c_11ed_add7_8045ddb67bebrow0_col4\" class=\"data row0 col4\" >1.540</td>\n",
       "            </tr>\n",
       "            <tr>\n",
       "                                <th id=\"T_bc7716d0_981c_11ed_add7_8045ddb67beblevel1_row1\" class=\"row_heading level1 row1\" >pre</th>\n",
       "                        <td id=\"T_bc7716d0_981c_11ed_add7_8045ddb67bebrow1_col0\" class=\"data row1 col0\" >1.661</td>\n",
       "                        <td id=\"T_bc7716d0_981c_11ed_add7_8045ddb67bebrow1_col1\" class=\"data row1 col1\" >1.567</td>\n",
       "                        <td id=\"T_bc7716d0_981c_11ed_add7_8045ddb67bebrow1_col2\" class=\"data row1 col2\" >1.587</td>\n",
       "                        <td id=\"T_bc7716d0_981c_11ed_add7_8045ddb67bebrow1_col3\" class=\"data row1 col3\" >1.582</td>\n",
       "                        <td id=\"T_bc7716d0_981c_11ed_add7_8045ddb67bebrow1_col4\" class=\"data row1 col4\" >1.562</td>\n",
       "            </tr>\n",
       "            <tr>\n",
       "                        <th id=\"T_bc7716d0_981c_11ed_add7_8045ddb67beblevel0_row2\" class=\"row_heading level0 row2\" >conv</th>\n",
       "                        <th id=\"T_bc7716d0_981c_11ed_add7_8045ddb67beblevel1_row2\" class=\"row_heading level1 row2\" >pre</th>\n",
       "                        <td id=\"T_bc7716d0_981c_11ed_add7_8045ddb67bebrow2_col0\" class=\"data row2 col0\" >1.654</td>\n",
       "                        <td id=\"T_bc7716d0_981c_11ed_add7_8045ddb67bebrow2_col1\" class=\"data row2 col1\" >1.622</td>\n",
       "                        <td id=\"T_bc7716d0_981c_11ed_add7_8045ddb67bebrow2_col2\" class=\"data row2 col2\" >1.627</td>\n",
       "                        <td id=\"T_bc7716d0_981c_11ed_add7_8045ddb67bebrow2_col3\" class=\"data row2 col3\" >1.625</td>\n",
       "                        <td id=\"T_bc7716d0_981c_11ed_add7_8045ddb67bebrow2_col4\" class=\"data row2 col4\" >1.620</td>\n",
       "            </tr>\n",
       "            <tr>\n",
       "                        <th id=\"T_bc7716d0_981c_11ed_add7_8045ddb67beblevel0_row3\" class=\"row_heading level0 row3\" >rnn</th>\n",
       "                        <th id=\"T_bc7716d0_981c_11ed_add7_8045ddb67beblevel1_row3\" class=\"row_heading level1 row3\" >pre</th>\n",
       "                        <td id=\"T_bc7716d0_981c_11ed_add7_8045ddb67bebrow3_col0\" class=\"data row3 col0\" >1.697</td>\n",
       "                        <td id=\"T_bc7716d0_981c_11ed_add7_8045ddb67bebrow3_col1\" class=\"data row3 col1\" >1.673</td>\n",
       "                        <td id=\"T_bc7716d0_981c_11ed_add7_8045ddb67bebrow3_col2\" class=\"data row3 col2\" >1.682</td>\n",
       "                        <td id=\"T_bc7716d0_981c_11ed_add7_8045ddb67bebrow3_col3\" class=\"data row3 col3\" >1.674</td>\n",
       "                        <td id=\"T_bc7716d0_981c_11ed_add7_8045ddb67bebrow3_col4\" class=\"data row3 col4\" >1.677</td>\n",
       "            </tr>\n",
       "    </tbody></table>"
      ],
      "text/plain": [
       "<pandas.io.formats.style.Styler at 0x7ff6ae79b898>"
      ]
     },
     "execution_count": 21,
     "metadata": {},
     "output_type": "execute_result"
    }
   ],
   "source": [
    "dfb = (dfm\n",
    " .groupby([\"model\", \"norm\", \"dtype\", \"loss_scale\", \"variant\"])\n",
    " .apply(lambda d: d.iloc[d.valid_bpc.argmin()][[\"lr\", \"test_bpc\", \"test_bpc_std\"]])\n",
    " .reset_index()\n",
    ")\n",
    "ci = 2 * dfb.test_bpc_std.mean() / np.sqrt(3)\n",
    "print(f\"95% CI: {ci:.3f}\")\n",
    "(dfb\n",
    " .pivot(index=[\"model\", \"norm\"], columns=[\"dtype\", \"variant\", \"loss_scale\"], values=\"test_bpc\")\n",
    " .style\n",
    " .format(\"{:.3f}\")\n",
    " .apply(lambda s: np.where(s < s.min() + ci, \"font-weight: bold\", \"\"), axis=1)\n",
    ")"
   ]
  }
 ],
 "metadata": {
  "kernelspec": {
   "display_name": "Python 3",
   "language": "python",
   "name": "python3"
  },
  "language_info": {
   "codemirror_mode": {
    "name": "ipython",
    "version": 3
   },
   "file_extension": ".py",
   "mimetype": "text/x-python",
   "name": "python",
   "nbconvert_exporter": "python",
   "pygments_lexer": "ipython3",
   "version": "3.6.9"
  }
 },
 "nbformat": 4,
 "nbformat_minor": 5
}
